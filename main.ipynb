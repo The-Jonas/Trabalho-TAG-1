{
 "cells": [
  {
   "cell_type": "code",
   "execution_count": null,
   "id": "97086160",
   "metadata": {},
   "outputs": [],
   "source": [
    "from src.build_graph import build_graph_from_txt\n",
    "\n",
    "G = build_graph_from_txt(\"data/twitter_combined.txt\")\n",
    "print(\"Nós:\", G.number_of_nodes())\n",
    "print(\"Arestas:\", G.number_of_edges())\n",
    "\n",
    "# Constroí o grafo e exibe o número de nós e arestas dele\n",
    "# Usando como base os dados do twitter"
   ]
  },
  {
   "cell_type": "code",
   "execution_count": null,
   "id": "5a187112",
   "metadata": {},
   "outputs": [],
   "source": [
    "# 2️⃣ TRANSFORMAÇÃO EM SUBGRAFO (opcional)\n",
    "from src.analysis import calcular_pagerank\n",
    "import random\n",
    "                                 # ← Defina qual tipo de subgrafo quer usar\n",
    "usar_subgrafo_top = True         # ← Mude aqui se quiser um subgrafo dos mais influentes\n",
    "usar_subgrafo_aleatorio = False  # ← Mude aqui se quiser um aleatório\n",
    "n = 500                          # ← Tamanho do subgrafo\n",
    "\n",
    "if usar_subgrafo_top:\n",
    "    pagerank = calcular_pagerank(G)\n",
    "    top_nos = sorted(pagerank, key=pagerank.get, reverse=True)[:n]\n",
    "    G = G.subgraph(top_nos).copy()\n",
    "    print(f\"Subgrafo com os {n} nós mais influentes criado.\")\n",
    "\n",
    "elif usar_subgrafo_aleatorio:\n",
    "    amostra = random.sample(list(G.nodes), min(n, G.number_of_nodes()))\n",
    "    G = G.subgraph(amostra).copy()\n",
    "    print(f\"Subgrafo aleatório com {n} nós criado.\")\n",
    "\n",
    "# Verifica o novo tamanho do grafo\n",
    "print(\"Novo número de nós:\", G.number_of_nodes())\n",
    "print(\"Novo número de arestas:\", G.number_of_edges())"
   ]
  },
  {
   "cell_type": "code",
   "execution_count": null,
   "id": "9563b3e8",
   "metadata": {},
   "outputs": [],
   "source": [
    "from src.analysis import calcular_pagerank\n",
    "\n",
    "# Calcular PageRank\n",
    "pagerank = calcular_pagerank(G)\n",
    "print(\"Top 10 nós por PageRank:\")\n",
    "n = 1\n",
    "for node, score in sorted(pagerank.items(), key=lambda x: x[1], reverse=True)[:10]:\n",
    "    print(f\"{n} - {node}: {score:.4f}\")\n",
    "    n += 1\n",
    "    \n",
    "# Avalia a importância dos nós com base em quantos outros nós importantes apontam para ele\n",
    "# No contexto do Twitter, mede a \"influência de usuários com base nas iterações recebidas\"\n",
    "# Estranhamente extremamente rápido \n",
    "\n",
    "# O score se trata de um valor númerico entre 0 e 1, normalmente com 4 ou 5 casas decimais, que representa\n",
    "# a probabilidade de estar nesse nó em uma caminha aleatória\n",
    "# (A soma de todos os scores do grafo dá 1)"
   ]
  },
  {
   "cell_type": "code",
   "execution_count": null,
   "id": "f30429ba",
   "metadata": {},
   "outputs": [],
   "source": [
    "from src.analysis import calcular_centralidades\n",
    "\n",
    "# Calcular as três centralidades\n",
    "centralidades = calcular_centralidades(G)\n",
    "\n",
    "# Top 1 por grau\n",
    "top_grau = max(centralidades[\"grau\"], key=centralidades[\"grau\"].get)\n",
    "print(\"Top 1 em centralidade de grau:\", top_grau)\n",
    "\n",
    "# Top 1 por intermediação\n",
    "top_intermediacao = max(centralidades[\"intermediacao\"], key=centralidades[\"intermediacao\"].get)\n",
    "print(\"Top 1 em centralidade de intermediação:\", top_intermediacao)\n",
    "\n",
    "# Top 1 por proximidade\n",
    "top_proximidade = max(centralidades[\"proximidade\"], key=centralidades[\"proximidade\"].get)\n",
    "print(\"Top 1 em centralidade de proximidade:\", top_proximidade)\n",
    "\n",
    "# - Grau: Usuários que mais interagem ou são mencionados\n",
    "# - Intermediação: Conectam diferentes comunidades (pontes)\n",
    "# - Proximidade: Espalham informações rapidamente "
   ]
  },
  {
   "cell_type": "code",
   "execution_count": null,
   "id": "60873462",
   "metadata": {},
   "outputs": [],
   "source": [
    "from src.analysis import detectar_comunidades_louvain\n",
    "\n",
    "# Comunidades Louvain\n",
    "particoes = detectar_comunidades_louvain(G)\n",
    "print(\"Número de comunidades detectadas:\", len(set(particoes.values())))\n",
    "\n",
    "#Algoritmo que encontra grupos de usuários com alta conexão interna.\n",
    "#Ajuda a identificar \"bolhas de desinformação ou câmaras de eco\""
   ]
  },
  {
   "cell_type": "code",
   "execution_count": null,
   "id": "676979a5",
   "metadata": {},
   "outputs": [],
   "source": [
    "from src.analysis import detectar_comunidades_girvan_newman\n",
    "\n",
    "# G precisa ser um grafo pequeno (ex: já transformado em subgrafo com 200 nós)\n",
    "comunidades = detectar_comunidades_girvan_newman(G, num_comunidades=5)\n",
    "\n",
    "print(f\"{len(comunidades)} comunidades detectadas via Girvan-Newman\")\n",
    "for i, grupo in enumerate(comunidades):\n",
    "    print(f\"Comunidade {i+1} - {len(grupo)} nós\")"
   ]
  },
  {
   "cell_type": "code",
   "execution_count": null,
   "id": "53813861",
   "metadata": {},
   "outputs": [],
   "source": [
    "from src.visualize import plot_grafo_basico\n",
    "\n",
    "plot_grafo_basico(G)  # Mostra primeiros 200 nós (Detalhe que aqui só conseguimos mudar dentro do código, já que é menos experimental)"
   ]
  },
  {
   "cell_type": "code",
   "execution_count": null,
   "id": "4090d0a5",
   "metadata": {},
   "outputs": [],
   "source": [
    "# Visualizar um grafo com os nós dimensionados pelo valor do PageRank\n",
    "# Precisa do grafo e do Pagerank pra ser executado\n",
    "# Consegue ser executado mesmo com o grafo completo, mas recomendado que o num_nodes seja <= 300\n",
    "\n",
    "from src.visualize import plot_pagerank\n",
    "\n",
    "plot_pagerank(G, pagerank, num_nodes = 500)"
   ]
  },
  {
   "cell_type": "code",
   "execution_count": null,
   "id": "8c90c7f0",
   "metadata": {},
   "outputs": [],
   "source": [
    "# Visualizar o grafo colorido, as comunidades estão separadas por cores\n",
    "# Os nós mais influentes estão circulados para melhor visualização\n",
    "\n",
    "from src.visualize import plot_comunidades_com_pagerank\n",
    "\n",
    "plot_comunidades_com_pagerank(G, particoes, pagerank, num_top=10)"
   ]
  },
  {
   "cell_type": "code",
   "execution_count": null,
   "id": "188a80c3",
   "metadata": {},
   "outputs": [],
   "source": [
    "from src.visualize import exportar_para_gephi\n",
    "\n",
    "# Exportar o grafo para o formato .gext, pronto para abrir no Gephi\n",
    "# G: grafo\n",
    "# Versão mais simples\n",
    "exportar_para_gephi(G)"
   ]
  },
  {
   "cell_type": "code",
   "execution_count": null,
   "id": "89fe8eb6",
   "metadata": {},
   "outputs": [],
   "source": [
    "from src.visualize import exportar_para_gephi_com_atributos\n",
    "# G: grafo (de preferência já um subgrafo com no máximo ~500 nós)\n",
    "# pagerank: dicionário com a pontuação de influência de cada nó\n",
    "# particoes: dicionário com a comunidade de cada nó (ex: detectada por Louvain)\n",
    "\n",
    "# Exporta o grafo para o formato .gexf, pronto para abrir no Gephi\n",
    "exportar_para_gephi_com_atributos(G, pagerank, particoes)\n",
    "\n",
    "# Para executar, primeiro executar o grafo, depois o pagerank, depois a detecção de comunidades louvain"
   ]
  }
 ],
 "metadata": {
  "kernelspec": {
   "display_name": "Python 3",
   "language": "python",
   "name": "python3"
  },
  "language_info": {
   "codemirror_mode": {
    "name": "ipython",
    "version": 3
   },
   "file_extension": ".py",
   "mimetype": "text/x-python",
   "name": "python",
   "nbconvert_exporter": "python",
   "pygments_lexer": "ipython3",
   "version": "3.13.3"
  }
 },
 "nbformat": 4,
 "nbformat_minor": 5
}
